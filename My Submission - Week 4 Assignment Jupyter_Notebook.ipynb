{
 "cells": [
  {
   "cell_type": "markdown",
   "id": "83c680f0-251f-458f-8bfa-c890e8366895",
   "metadata": {},
   "source": [
    "<H1> My Jupyter Notebook on IBM Watson Studio"
   ]
  },
  {
   "cell_type": "markdown",
   "id": "d96136e6-c785-48ec-ad05-065d02627edf",
   "metadata": {},
   "source": [
    "**Sasank Aravindh.D**\n",
    "<br>Desired Occupation - Data Scientist"
   ]
  },
  {
   "cell_type": "markdown",
   "id": "78a9db3f-ef9b-441e-8dc1-4d687d5f0a10",
   "metadata": {},
   "source": [
    "*I am Interested in Data Science because it's the Sexiest Job of 21st Century & Emerging field flooded with employment options*"
   ]
  },
  {
   "cell_type": "markdown",
   "id": "e4b8beaa-6c4f-42fb-9064-7b3a7ffb8660",
   "metadata": {},
   "source": [
    "<H3> Since I am a complete novice and amateur programmer I am just creating a code to output Sum of 2512 and 1996 in Cell 5"
   ]
  },
  {
   "cell_type": "code",
   "execution_count": 3,
   "id": "295c0d95-40e8-419a-960c-d39ba10982d0",
   "metadata": {},
   "outputs": [
    {
     "data": {
      "text/plain": [
       "4508"
      ]
     },
     "execution_count": 3,
     "metadata": {},
     "output_type": "execute_result"
    }
   ],
   "source": [
    "2512+1996"
   ]
  },
  {
   "cell_type": "markdown",
   "id": "2f3c3a88-d846-4056-a4ef-9eb0ea16768e",
   "metadata": {},
   "source": [
    "|Tables Created|for Assessment|Purpose|\n",
    ":- |-------------: |-:\n",
    "|<p>This is blockquote</p>|~~Stylished~~ for |assignment purpose|\n",
    "<br> for more information visit <a href=\"https://dataplatform.cloud.ibm.com/docs/content/wsj/analyze-data/markd-jupyter.html\">IBM Markdown Cheatsheet (For Reference) </a> "
   ]
  }
 ],
 "metadata": {
  "kernelspec": {
   "display_name": "Python",
   "language": "python",
   "name": "conda-env-python-py"
  },
  "language_info": {
   "codemirror_mode": {
    "name": "ipython",
    "version": 3
   },
   "file_extension": ".py",
   "mimetype": "text/x-python",
   "name": "python",
   "nbconvert_exporter": "python",
   "pygments_lexer": "ipython3",
   "version": "3.7.12"
  }
 },
 "nbformat": 4,
 "nbformat_minor": 5
}
